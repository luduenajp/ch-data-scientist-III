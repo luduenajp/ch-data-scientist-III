{
  "nbformat": 4,
  "nbformat_minor": 0,
  "metadata": {
    "colab": {
      "provenance": []
    },
    "kernelspec": {
      "name": "python3",
      "display_name": "Python 3"
    },
    "language_info": {
      "name": "python"
    }
  },
  "cells": [
    {
      "cell_type": "code",
      "execution_count": 1,
      "metadata": {
        "id": "CPpyL5uQCsCg"
      },
      "outputs": [],
      "source": [
        "import tensorflow as tf\n",
        "from tensorflow.keras.models import Sequential\n",
        "from tensorflow.keras.layers import Dense, Flatten, Dropout\n",
        "from tensorflow.keras.datasets import fashion_mnist\n",
        "import matplotlib.pyplot as plt"
      ]
    },
    {
      "cell_type": "code",
      "source": [
        "# Cargar el dataset Fashion-MNIST\n",
        "(x_train, y_train), (x_test, y_test) = fashion_mnist.load_data()\n",
        "x_train, x_test = x_train / 255.0, x_test / 255.0  # Normalizar los datos\n",
        "\n",
        "# Mostrar algunas imágenes del dataset\n",
        "fig, axes = plt.subplots(1, 5, figsize=(10, 2))\n",
        "for i in range(5):\n",
        "    axes[i].imshow(x_train[i], cmap='gray')\n",
        "    axes[i].axis('off')\n",
        "plt.show()\n"
      ],
      "metadata": {
        "id": "U-aCvskHRMhI",
        "colab": {
          "base_uri": "https://localhost:8080/",
          "height": 313
        },
        "outputId": "31931e27-5dd4-429d-ff4c-60bb6dc64d72"
      },
      "execution_count": 2,
      "outputs": [
        {
          "output_type": "stream",
          "name": "stdout",
          "text": [
            "Downloading data from https://storage.googleapis.com/tensorflow/tf-keras-datasets/train-labels-idx1-ubyte.gz\n",
            "\u001b[1m29515/29515\u001b[0m \u001b[32m━━━━━━━━━━━━━━━━━━━━\u001b[0m\u001b[37m\u001b[0m \u001b[1m0s\u001b[0m 0us/step\n",
            "Downloading data from https://storage.googleapis.com/tensorflow/tf-keras-datasets/train-images-idx3-ubyte.gz\n",
            "\u001b[1m26421880/26421880\u001b[0m \u001b[32m━━━━━━━━━━━━━━━━━━━━\u001b[0m\u001b[37m\u001b[0m \u001b[1m0s\u001b[0m 0us/step\n",
            "Downloading data from https://storage.googleapis.com/tensorflow/tf-keras-datasets/t10k-labels-idx1-ubyte.gz\n",
            "\u001b[1m5148/5148\u001b[0m \u001b[32m━━━━━━━━━━━━━━━━━━━━\u001b[0m\u001b[37m\u001b[0m \u001b[1m0s\u001b[0m 0us/step\n",
            "Downloading data from https://storage.googleapis.com/tensorflow/tf-keras-datasets/t10k-images-idx3-ubyte.gz\n",
            "\u001b[1m4422102/4422102\u001b[0m \u001b[32m━━━━━━━━━━━━━━━━━━━━\u001b[0m\u001b[37m\u001b[0m \u001b[1m0s\u001b[0m 0us/step\n"
          ]
        },
        {
          "output_type": "display_data",
          "data": {
            "text/plain": [
              "<Figure size 1000x200 with 5 Axes>"
            ],
            "image/png": "[encoded data removed]"
          },
          "metadata": {}
        }
      ]
    },
    {
      "cell_type": "markdown",
      "source": [
        " Consignas para los alumnos:\n",
        " 1. Analiza la estructura de la red neuronal correcta y observa la función de cada capa.\n",
        " 2. Reordena las capas del modelo para que coincidan con el modelo correcto.\n",
        " 3. Una pista: empieza con Flatten y termina con la capa de 10 neuronas con softmax.\n",
        " 4. Luego de corregir el modelo, compílalo y entrénalo para verificar su accuracy.\n",
        " 5. Calcula el accuracy del modelo corregido.\n",
        "\n",
        " PS: para la compilaciòn: optimizer='adam', loss='sparse_categorical_crossentropy', metrics=['accuracy'])\n",
        "\n",
        " PS2: para el entrenamiento no màs de 5 e`pocas y validarlo.\n",
        "\n",
        " usando las siguientes capas\n",
        " Dense(10, activation='softmax')\n",
        "Dense(256, activation='relu'),\n",
        "Dropout(0.2),\n",
        "Dropout(0.2),\n",
        "Dense(128, activation='relu'),\n",
        "Flatten(input_shape=(28, 28)),\n",
        "Dense(512, activation='relu'),\n"
      ],
      "metadata": {
        "id": "2QfmaVpMwBKD"
      }
    },
    {
      "cell_type": "markdown",
      "source": [
        "Capas a usar."
      ],
      "metadata": {
        "id": "_fiNapNSSFSS"
      }
    },
    {
      "cell_type": "code",
      "source": [
        "#Dense(10, activation='softmax')\n",
        "#Dense(256, activation='relu'),\n",
        "#Dropout(0.2),\n",
        "#Dropout(0.2),\n",
        "#Dense(128, activation='relu'),\n",
        "#Flatten(input_shape=(28, 28)),\n",
        "#Dense(512, activation='relu'),\n"
      ],
      "metadata": {
        "id": "WOUqrv7oRdVC"
      },
      "execution_count": null,
      "outputs": []
    },
    {
      "cell_type": "code",
      "source": [
        "# modelo secuencial\n",
        "model = Sequential([\n",
        "    Flatten(input_shape=(28, 28)),\n",
        "    Dense(512, activation='relu'),\n",
        "    Dropout(0.2),\n",
        "    Dense(256, activation='relu'),\n",
        "    Dropout(0.2),\n",
        "    Dense(128, activation='relu'),\n",
        "    Dense(10, activation='softmax')\n",
        "])\n",
        "\n",
        "model.compile(optimizer='adam',\n",
        "              loss='sparse_categorical_crossentropy',\n",
        "              metrics=['accuracy'])\n",
        "\n",
        "# entrenamiento\n",
        "history = model.fit(x_train, y_train, epochs=5, validation_data=(x_test, y_test))\n",
        "\n",
        "# accuracy\n",
        "test_loss, test_acc = model.evaluate(x_test, y_test, verbose=2)\n",
        "print('\\nTest accuracy:', test_acc)"
      ],
      "metadata": {
        "colab": {
          "base_uri": "https://localhost:8080/"
        },
        "id": "XrNTXdcnxBTe",
        "outputId": "36c910d0-eb9a-4e2b-8a5f-c304d7afbcce"
      },
      "execution_count": 3,
      "outputs": [
        {
          "output_type": "stream",
          "name": "stderr",
          "text": [
            "/usr/local/lib/python3.11/dist-packages/keras/src/layers/reshaping/flatten.py:37: UserWarning: Do not pass an `input_shape`/`input_dim` argument to a layer. When using Sequential models, prefer using an `Input(shape)` object as the first layer in the model instead.\n",
            "  super().__init__(**kwargs)\n"
          ]
        },
        {
          "output_type": "stream",
          "name": "stdout",
          "text": [
            "Epoch 1/5\n",
            "\u001b[1m1875/1875\u001b[0m \u001b[32m━━━━━━━━━━━━━━━━━━━━\u001b[0m\u001b[37m\u001b[0m \u001b[1m21s\u001b[0m 10ms/step - accuracy: 0.7618 - loss: 0.6593 - val_accuracy: 0.8397 - val_loss: 0.4430\n",
            "Epoch 2/5\n",
            "\u001b[1m1875/1875\u001b[0m \u001b[32m━━━━━━━━━━━━━━━━━━━━\u001b[0m\u001b[37m\u001b[0m \u001b[1m20s\u001b[0m 10ms/step - accuracy: 0.8485 - loss: 0.4119 - val_accuracy: 0.8616 - val_loss: 0.3857\n",
            "Epoch 3/5\n",
            "\u001b[1m1875/1875\u001b[0m \u001b[32m━━━━━━━━━━━━━━━━━━━━\u001b[0m\u001b[37m\u001b[0m \u001b[1m22s\u001b[0m 11ms/step - accuracy: 0.8600 - loss: 0.3795 - val_accuracy: 0.8682 - val_loss: 0.3677\n",
            "Epoch 4/5\n",
            "\u001b[1m1875/1875\u001b[0m \u001b[32m━━━━━━━━━━━━━━━━━━━━\u001b[0m\u001b[37m\u001b[0m \u001b[1m19s\u001b[0m 10ms/step - accuracy: 0.8715 - loss: 0.3493 - val_accuracy: 0.8604 - val_loss: 0.3848\n",
            "Epoch 5/5\n",
            "\u001b[1m1875/1875\u001b[0m \u001b[32m━━━━━━━━━━━━━━━━━━━━\u001b[0m\u001b[37m\u001b[0m \u001b[1m19s\u001b[0m 10ms/step - accuracy: 0.8782 - loss: 0.3309 - val_accuracy: 0.8735 - val_loss: 0.3458\n",
            "313/313 - 1s - 3ms/step - accuracy: 0.8735 - loss: 0.3458\n",
            "\n",
            "Test accuracy: 0.8734999895095825\n"
          ]
        }
      ]
    },
    {
      "cell_type": "code",
      "source": [
        "# Explicación para los alumnos:\n",
        "# Esta red neuronal recibe imágenes de 28x28 píxeles en escala de grises y las clasifica en 10 categorías de ropa.\n",
        "# Utiliza capas densas (fully connected) con activación ReLU y una capa final con activación softmax para la clasificación.\n",
        "# Además, emplea Dropout para reducir el sobreajuste.\n"
      ],
      "metadata": {
        "id": "kZY6iKKeRRFQ"
      },
      "execution_count": null,
      "outputs": []
    },
    {
      "cell_type": "markdown",
      "source": [
        "El resultado obtenido, nos indica que el modelo ha clasificado correctamente el 87% de las imágenes de prueba.  Si bien no es perfecto, es un buen punto de partida.  Se podría buscar mejorar este valor mediante la experimentación con diferentes arquitecturas, hiperparámetros (como la tasa de aprendizaje, el número de capas, neuronas por capa, épocas de entrenamiento, etc.), o técnicas de aumento de datos."
      ],
      "metadata": {
        "id": "NNBUDk_fy0r3"
      }
    }
  ]
}